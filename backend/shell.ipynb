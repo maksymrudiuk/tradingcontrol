{
 "cells": [
  {
   "cell_type": "code",
   "execution_count": 1,
   "metadata": {},
   "outputs": [
    {
     "name": "stdout",
     "output_type": "stream",
     "text": [
      "ok\n",
      "All operations in successfuly completed\n"
     ]
    }
   ],
   "source": [
    "from core.tasks import image_processing\n",
    "\n",
    "photo_list = ['/media/uploads/test.jpg', '/media/uploads/super.jpg']\n",
    "store_id = 1\n",
    "time_data = {\n",
    "    't_start': '9.30',\n",
    "    't_finish': '9.50',\n",
    "    't_delta': '20',\n",
    "}\n",
    "username = 'admin'\n",
    "\n",
    "image_processing(photo_list, store_id, time_data, username)"
   ]
  },
  {
   "cell_type": "code",
   "execution_count": 3,
   "metadata": {},
   "outputs": [
    {
     "name": "stdout",
     "output_type": "stream",
     "text": [
      "2018-12-17 14:43:29.395876\n"
     ]
    }
   ],
   "source": [
    "import datetime\n",
    "\n",
    "time_24_hours_ago = datetime.datetime.now() - datetime.timedelta(days=1)\n",
    "print(time_24_hours_ago)"
   ]
  },
  {
   "cell_type": "code",
   "execution_count": null,
   "metadata": {},
   "outputs": [],
   "source": []
  }
 ],
 "metadata": {
  "kernelspec": {
   "display_name": "Django Shell-Plus",
   "language": "python",
   "name": "django_extensions"
  },
  "language_info": {
   "codemirror_mode": {
    "name": "ipython",
    "version": 3
   },
   "file_extension": ".py",
   "mimetype": "text/x-python",
   "name": "python",
   "nbconvert_exporter": "python",
   "pygments_lexer": "ipython3",
   "version": "3.6.5"
  }
 },
 "nbformat": 4,
 "nbformat_minor": 2
}
