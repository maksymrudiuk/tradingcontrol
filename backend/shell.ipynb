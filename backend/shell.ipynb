{
 "cells": [
  {
   "cell_type": "code",
   "execution_count": 1,
   "metadata": {},
   "outputs": [
    {
     "name": "stdout",
     "output_type": "stream",
     "text": [
      "{'name': '7enUdsavWZ', 'store': <Store: АТБ  вул. Генерала Потапова 4>, 'owner': <UserProfile: admin>, 'assortment_percent': 33, 'assortment': [{'name': 'Пломбір', 'status': True}, {'name': 'Золотий ключик', 'status': False}, {'name': 'Супер Шоколад', 'status': False}]}\n"
     ]
    }
   ],
   "source": [
    "from core.tasks import detect\n",
    "from report.models import ReportData\n",
    "\n",
    "list_u = ['/media/plombir_l31Jczr.jpg', '/media/owl_yw3QfI4.jpg', '/media/cube_9xy8nUc.jpg', '/media/abs.jpg']\n",
    "res = detect(list_u, 1, 'admin')\n",
    "print(res)"
   ]
  },
  {
   "cell_type": "code",
   "execution_count": null,
   "metadata": {},
   "outputs": [],
   "source": []
  }
 ],
 "metadata": {
  "kernelspec": {
   "display_name": "Django Shell-Plus",
   "language": "python",
   "name": "django_extensions"
  },
  "language_info": {
   "codemirror_mode": {
    "name": "ipython",
    "version": 3
   },
   "file_extension": ".py",
   "mimetype": "text/x-python",
   "name": "python",
   "nbconvert_exporter": "python",
   "pygments_lexer": "ipython3",
   "version": "3.6.5"
  }
 },
 "nbformat": 4,
 "nbformat_minor": 2
}
