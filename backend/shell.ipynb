{
 "cells": [
  {
   "cell_type": "code",
   "execution_count": null,
   "metadata": {},
   "outputs": [],
   "source": [
    "from core.tasks import detect\n",
    "from report.models import ReportData\n",
    "from report.serializers import ReportDataSerializer\n",
    "from user.models import UserProfile\n",
    "\n",
    "list_u = ['/media/plombir_l31Jczr.jpg', '/media/owl_yw3QfI4.jpg', '/media/cube_9xy8nUc.jpg', '/media/abs.jpg']\n",
    "user = UserProfile.objects.get(username='admin')\n",
    "res, owner, store = detect(list_u, 1, user)\n",
    "serializer = ReportDataSerializer(data=res)\n",
    "if serializer.is_valid():\n",
    "    serializer.save(owner=owner, store_id=store)\n",
    "    print(serializer.data)\n",
    "else:\n",
    "    print(serializer.errors)"
   ]
  },
  {
   "cell_type": "code",
   "execution_count": 4,
   "metadata": {},
   "outputs": [],
   "source": [
    "from core.tasks import image_processing\n",
    "\n",
    "list_u = ['/media/plombir_l31Jczr.jpg']\n",
    "image_processing(list_u, 2, 'vasya')"
   ]
  },
  {
   "cell_type": "code",
   "execution_count": null,
   "metadata": {},
   "outputs": [],
   "source": []
  }
 ],
 "metadata": {
  "kernelspec": {
   "display_name": "Django Shell-Plus",
   "language": "python",
   "name": "django_extensions"
  },
  "language_info": {
   "codemirror_mode": {
    "name": "ipython",
    "version": 3
   },
   "file_extension": ".py",
   "mimetype": "text/x-python",
   "name": "python",
   "nbconvert_exporter": "python",
   "pygments_lexer": "ipython3",
   "version": "3.6.5"
  }
 },
 "nbformat": 4,
 "nbformat_minor": 2
}
