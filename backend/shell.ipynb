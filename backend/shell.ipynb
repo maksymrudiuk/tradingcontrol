{
 "cells": [
  {
   "cell_type": "code",
   "execution_count": 3,
   "metadata": {},
   "outputs": [
    {
     "name": "stdout",
     "output_type": "stream",
     "text": [
      "(50.2604803, 28.6545032)\n"
     ]
    }
   ],
   "source": [
    "from store.utils import get_location, get_address\n",
    "\n",
    "address= \"АТБ, Перемоги вулиця, 24, Житомир, Богунський Район, Житомир, Житомирська Область, Україна\"\n",
    "loc = get_location(address)\n",
    "print(loc)\n",
    "      \n",
    "      "
   ]
  },
  {
   "cell_type": "code",
   "execution_count": null,
   "metadata": {},
   "outputs": [],
   "source": []
  }
 ],
 "metadata": {
  "kernelspec": {
   "display_name": "Django Shell-Plus",
   "language": "python",
   "name": "django_extensions"
  },
  "language_info": {
   "codemirror_mode": {
    "name": "ipython",
    "version": 3
   },
   "file_extension": ".py",
   "mimetype": "text/x-python",
   "name": "python",
   "nbconvert_exporter": "python",
   "pygments_lexer": "ipython3",
   "version": "3.6.5"
  }
 },
 "nbformat": 4,
 "nbformat_minor": 2
}
