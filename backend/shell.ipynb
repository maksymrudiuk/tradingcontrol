{
 "cells": [
  {
   "cell_type": "code",
   "execution_count": 8,
   "metadata": {},
   "outputs": [
    {
     "name": "stdout",
     "output_type": "stream",
     "text": [
      "ok\n",
      "All operations in successfuly completed\n"
     ]
    }
   ],
   "source": [
    "from core.tasks import image_processing\n",
    "\n",
    "photo_list = ['/media/uploads/test.jpg', '/media/uploads/super.jpg']\n",
    "store_id = 1\n",
    "time_data = {\n",
    "    't_start': '9.30',\n",
    "    't_finish': '9.50',\n",
    "    't_delta': '20',\n",
    "}\n",
    "username = 'orkenate'\n",
    "\n",
    "image_processing(photo_list, store_id, time_data, username)"
   ]
  },
  {
   "cell_type": "code",
   "execution_count": 3,
   "metadata": {},
   "outputs": [
    {
     "name": "stdout",
     "output_type": "stream",
     "text": [
      "2018-12-17 14:43:29.395876\n"
     ]
    }
   ],
   "source": [
    "import datetime\n",
    "\n",
    "time_24_hours_ago = datetime.datetime.now() - datetime.timedelta(days=1)\n",
    "print(time_24_hours_ago)"
   ]
  },
  {
   "cell_type": "code",
   "execution_count": 9,
   "metadata": {},
   "outputs": [
    {
     "name": "stdout",
     "output_type": "stream",
     "text": [
      "['DoesNotExist', 'EMAIL_FIELD', 'Meta', 'MultipleObjectsReturned', 'REQUIRED_FIELDS', 'ROLES', 'USERNAME_FIELD', '__class__', '__delattr__', '__dict__', '__dir__', '__doc__', '__eq__', '__format__', '__ge__', '__getattribute__', '__getstate__', '__gt__', '__hash__', '__init__', '__init_subclass__', '__le__', '__lt__', '__module__', '__ne__', '__new__', '__reduce__', '__reduce_ex__', '__repr__', '__setattr__', '__setstate__', '__sizeof__', '__str__', '__subclasshook__', '__weakref__', '_check_column_name_clashes', '_check_field_name_clashes', '_check_fields', '_check_id_field', '_check_index_together', '_check_indexes', '_check_local_fields', '_check_long_column_names', '_check_m2m_through_same_relationship', '_check_managers', '_check_model', '_check_model_name_db_lookup_clashes', '_check_ordering', '_check_property_name_related_field_accessor_clashes', '_check_single_primary_key', '_check_swappable', '_check_unique_together', '_do_insert', '_do_update', '_get_FIELD_display', '_get_next_or_previous_by_FIELD', '_get_next_or_previous_in_order', '_get_pk_val', '_get_unique_checks', '_meta', '_password', '_perform_date_checks', '_perform_unique_checks', '_save_parents', '_save_table', '_set_pk_val', 'admin_list_display', 'agent', 'auth_token', 'check', 'check_password', 'clean', 'clean_fields', 'company', 'company_id', 'date_error_message', 'date_joined', 'delete', 'email', 'email_user', 'emailaddress_set', 'first_name', 'from_db', 'full_clean', 'get_all_permissions', 'get_deferred_fields', 'get_email_field_name', 'get_full_name', 'get_group_permissions', 'get_next_by_date_joined', 'get_previous_by_date_joined', 'get_role_display', 'get_session_auth_hash', 'get_short_name', 'get_username', 'groups', 'has_module_perms', 'has_perm', 'has_perms', 'has_usable_password', 'id', 'isAgent', 'isDirector', 'is_active', 'is_anonymous', 'is_authenticated', 'is_staff', 'is_superuser', 'last_login', 'last_name', 'logentry_set', 'natural_key', 'normalize_username', 'objects', 'password', 'phone', 'pk', 'prepare_database_save', 'refresh_from_db', 'reportdata_set', 'role', 'save', 'save_base', 'serializable_value', 'set_password', 'set_unusable_password', 'socialaccount_set', 'unique_error_message', 'uploadphoto_set', 'user_permissions', 'user_photo', 'username', 'username_validator', 'validate_unique']\n"
     ]
    }
   ],
   "source": [
    "from user.models import UserProfile\n",
    "\n",
    "print(dir(UserProfile))"
   ]
  },
  {
   "cell_type": "code",
   "execution_count": null,
   "metadata": {},
   "outputs": [],
   "source": []
  }
 ],
 "metadata": {
  "kernelspec": {
   "display_name": "Django Shell-Plus",
   "language": "python",
   "name": "django_extensions"
  },
  "language_info": {
   "codemirror_mode": {
    "name": "ipython",
    "version": 3
   },
   "file_extension": ".py",
   "mimetype": "text/x-python",
   "name": "python",
   "nbconvert_exporter": "python",
   "pygments_lexer": "ipython3",
   "version": "3.6.5"
  }
 },
 "nbformat": 4,
 "nbformat_minor": 2
}
